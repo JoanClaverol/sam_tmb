{
 "cells": [
  {
   "cell_type": "code",
   "execution_count": 1,
   "metadata": {},
   "outputs": [],
   "source": [
    "import pandas as pd"
   ]
  },
  {
   "cell_type": "code",
   "execution_count": 33,
   "metadata": {},
   "outputs": [],
   "source": [
    "df = pd.read_csv('./data/journey_plan_2024-08-12_11-00.csv')\n",
    "\n",
    "# transform from timesterings to datetime\n",
    "df['start_time'] = pd.to_datetime(df['start_time'], unit='ms')\n",
    "df['end_time'] = pd.to_datetime(df['end_time'], unit='ms')\n",
    "\n",
    "# # group by id and retunr the total time from the first row start_time to the last row end_time\n",
    "df['total_time'] = df['end_time'] - df['start_time']\n",
    "df['total_time'] = df['total_time'].dt.total_seconds()\n",
    "\n",
    "# get the minimum start_time for each id and the maximum end_time for each id\n",
    "df_min_max_time = df.groupby('id').agg({'start_time': 'min', 'end_time': 'max', 'total_time': 'sum'}).reset_index()\n",
    "\n",
    "# calculate teh diff in time between the min and max time\n",
    "df_min_max_time['diff_time'] = df_min_max_time['end_time'] - df_min_max_time['start_time']\n",
    "\n",
    "# return the id with less diff_time\n",
    "id_less_diff_time = df_min_max_time.loc[df_min_max_time['diff_time'].idxmin(), 'id']\n",
    "\n",
    "# filter the rows with the id with less diff_time\n",
    "df_id_less_diff_time = df[df['id'] == id_less_diff_time]\n",
    "\n",
    "# get the uniwue modes from df\n",
    "unique_modes = df_id_less_diff_time['mode'].unique()\n",
    "way_to_go = ' & '.join(unique_modes.tolist())"
   ]
  },
  {
   "cell_type": "code",
   "execution_count": 39,
   "metadata": {},
   "outputs": [
    {
     "name": "stdout",
     "output_type": "stream",
     "text": [
      "The id with less diff time is: cba8e6b5-e7e7-4c94-b754-0cd592b7bf8c\n"
     ]
    }
   ],
   "source": []
  },
  {
   "cell_type": "code",
   "execution_count": 51,
   "metadata": {},
   "outputs": [],
   "source": []
  }
 ],
 "metadata": {
  "kernelspec": {
   "display_name": "venv",
   "language": "python",
   "name": "python3"
  },
  "language_info": {
   "codemirror_mode": {
    "name": "ipython",
    "version": 3
   },
   "file_extension": ".py",
   "mimetype": "text/x-python",
   "name": "python",
   "nbconvert_exporter": "python",
   "pygments_lexer": "ipython3",
   "version": "3.9.19"
  }
 },
 "nbformat": 4,
 "nbformat_minor": 2
}
